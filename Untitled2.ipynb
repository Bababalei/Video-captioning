{
  "nbformat": 4,
  "nbformat_minor": 0,
  "metadata": {
    "colab": {
      "name": "Untitled2.ipynb",
      "provenance": [],
      "authorship_tag": "ABX9TyOyC6C4c6ZROr21jYCBupry",
      "include_colab_link": true
    },
    "kernelspec": {
      "name": "python3",
      "display_name": "Python 3"
    },
    "language_info": {
      "name": "python"
    }
  },
  "cells": [
    {
      "cell_type": "markdown",
      "metadata": {
        "id": "view-in-github",
        "colab_type": "text"
      },
      "source": [
        "<a href=\"https://colab.research.google.com/github/Bababalei/Video-captioning/blob/main/Untitled2.ipynb\" target=\"_parent\"><img src=\"https://colab.research.google.com/assets/colab-badge.svg\" alt=\"Open In Colab\"/></a>"
      ]
    },
    {
      "cell_type": "code",
      "metadata": {
        "colab": {
          "base_uri": "https://localhost:8080/"
        },
        "id": "ov7FMfzq_mbn",
        "outputId": "2c2f2eef-f79d-4f7a-db71-cf76a6058859"
      },
      "source": [
        "!git clone https://github.com/LAB-nus/cs5242-project.git"
      ],
      "execution_count": 1,
      "outputs": [
        {
          "output_type": "stream",
          "text": [
            "Cloning into 'cs5242-project'...\n",
            "remote: Enumerating objects: 1257, done.\u001b[K\n",
            "remote: Counting objects: 100% (1257/1257), done.\u001b[K\n",
            "remote: Compressing objects: 100% (192/192), done.\u001b[K\n",
            "remote: Total 18818 (delta 1086), reused 1216 (delta 1053), pack-reused 17561\u001b[K\n",
            "Receiving objects: 100% (18818/18818), 1.12 GiB | 39.24 MiB/s, done.\n",
            "Resolving deltas: 100% (1087/1087), done.\n",
            "Checking out files: 100% (18379/18379), done.\n"
          ],
          "name": "stdout"
        }
      ]
    }
  ]
}